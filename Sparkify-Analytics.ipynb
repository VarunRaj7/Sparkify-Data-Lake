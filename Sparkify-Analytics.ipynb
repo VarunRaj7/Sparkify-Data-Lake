{
 "cells": [
  {
   "cell_type": "markdown",
   "metadata": {
    "editable": true
   },
   "source": [
    "### Sparkify Analytics"
   ]
  },
  {
   "cell_type": "code",
   "execution_count": 2,
   "metadata": {
    "editable": true
   },
   "outputs": [
    {
     "data": {
      "application/vnd.jupyter.widget-view+json": {
       "model_id": "4aa6fefb4cdd4b3cbebd5f1994a16933",
       "version_major": 2,
       "version_minor": 0
      },
      "text/plain": [
       "VBox()"
      ]
     },
     "metadata": {},
     "output_type": "display_data"
    },
    {
     "data": {
      "application/vnd.jupyter.widget-view+json": {
       "model_id": "",
       "version_major": 2,
       "version_minor": 0
      },
      "text/plain": [
       "FloatProgress(value=0.0, bar_style='info', description='Progress:', layout=Layout(height='25px', width='50%'),…"
      ]
     },
     "metadata": {},
     "output_type": "display_data"
    }
   ],
   "source": [
    "### Spark session is already loaded\n",
    "### since this is loaded in the EMR Notebooks Pyspark"
   ]
  },
  {
   "cell_type": "code",
   "execution_count": 3,
   "metadata": {
    "editable": true
   },
   "outputs": [
    {
     "data": {
      "application/vnd.jupyter.widget-view+json": {
       "model_id": "30d84d671e8144f2a816d4031c03130c",
       "version_major": 2,
       "version_minor": 0
      },
      "text/plain": [
       "VBox()"
      ]
     },
     "metadata": {},
     "output_type": "display_data"
    },
    {
     "data": {
      "application/vnd.jupyter.widget-view+json": {
       "model_id": "",
       "version_major": 2,
       "version_minor": 0
      },
      "text/plain": [
       "FloatProgress(value=0.0, bar_style='info', description='Progress:', layout=Layout(height='25px', width='50%'),…"
      ]
     },
     "metadata": {},
     "output_type": "display_data"
    }
   ],
   "source": [
    "### Bucket in which the data is stored after modeling \n",
    "\n",
    "s3Bucket = 's3://sparkify-datalake-7/'"
   ]
  },
  {
   "cell_type": "markdown",
   "metadata": {
    "editable": true
   },
   "source": [
    "### Installing required Packages"
   ]
  },
  {
   "cell_type": "code",
   "execution_count": 4,
   "metadata": {
    "editable": true
   },
   "outputs": [
    {
     "data": {
      "application/vnd.jupyter.widget-view+json": {
       "model_id": "da2e22de956648ce83362412d7d860e5",
       "version_major": 2,
       "version_minor": 0
      },
      "text/plain": [
       "VBox()"
      ]
     },
     "metadata": {},
     "output_type": "display_data"
    },
    {
     "data": {
      "application/vnd.jupyter.widget-view+json": {
       "model_id": "",
       "version_major": 2,
       "version_minor": 0
      },
      "text/plain": [
       "FloatProgress(value=0.0, bar_style='info', description='Progress:', layout=Layout(height='25px', width='50%'),…"
      ]
     },
     "metadata": {},
     "output_type": "display_data"
    },
    {
     "name": "stdout",
     "output_type": "stream",
     "text": [
      "Package                    Version\n",
      "-------------------------- -------\n",
      "beautifulsoup4             4.9.0  \n",
      "boto                       2.49.0 \n",
      "jmespath                   0.9.5  \n",
      "lxml                       4.5.0  \n",
      "mysqlclient                1.4.2  \n",
      "nltk                       3.4.5  \n",
      "nose                       1.3.4  \n",
      "numpy                      1.16.5 \n",
      "pandas                     1.1.1  \n",
      "pip                        9.0.1  \n",
      "py-dateutil                2.2    \n",
      "python-dateutil            2.8.1  \n",
      "python37-sagemaker-pyspark 1.3.0  \n",
      "pytz                       2019.3 \n",
      "PyYAML                     5.3.1  \n",
      "setuptools                 28.8.0 \n",
      "six                        1.13.0 \n",
      "soupsieve                  1.9.5  \n",
      "wheel                      0.29.0 \n",
      "windmill                   1.6    \n",
      "\n",
      "None"
     ]
    }
   ],
   "source": [
    "print(sc.list_packages())"
   ]
  },
  {
   "cell_type": "code",
   "execution_count": 1,
   "metadata": {
    "editable": true
   },
   "outputs": [
    {
     "data": {
      "application/vnd.jupyter.widget-view+json": {
       "model_id": "a68c37b763d2482f97515f2d39c0226f",
       "version_major": 2,
       "version_minor": 0
      },
      "text/plain": [
       "VBox()"
      ]
     },
     "metadata": {},
     "output_type": "display_data"
    },
    {
     "name": "stdout",
     "output_type": "stream",
     "text": [
      "Starting Spark application\n"
     ]
    },
    {
     "data": {
      "text/html": [
       "<table>\n",
       "<tr><th>ID</th><th>YARN Application ID</th><th>Kind</th><th>State</th><th>Spark UI</th><th>Driver log</th><th>Current session?</th></tr><tr><td>1</td><td>application_1599326830902_0002</td><td>pyspark</td><td>idle</td><td><a target=\"_blank\" href=\"http://ip-172-31-5-231.us-east-2.compute.internal:20888/proxy/application_1599326830902_0002/\">Link</a></td><td><a target=\"_blank\" href=\"http://ip-172-31-9-201.us-east-2.compute.internal:8042/node/containerlogs/container_1599326830902_0002_01_000001/livy\">Link</a></td><td>✔</td></tr></table>"
      ],
      "text/plain": [
       "<IPython.core.display.HTML object>"
      ]
     },
     "metadata": {},
     "output_type": "display_data"
    },
    {
     "data": {
      "application/vnd.jupyter.widget-view+json": {
       "model_id": "",
       "version_major": 2,
       "version_minor": 0
      },
      "text/plain": [
       "FloatProgress(value=0.0, bar_style='info', description='Progress:', layout=Layout(height='25px', width='50%'),…"
      ]
     },
     "metadata": {},
     "output_type": "display_data"
    },
    {
     "name": "stdout",
     "output_type": "stream",
     "text": [
      "SparkSession available as 'spark'.\n"
     ]
    },
    {
     "data": {
      "application/vnd.jupyter.widget-view+json": {
       "model_id": "",
       "version_major": 2,
       "version_minor": 0
      },
      "text/plain": [
       "FloatProgress(value=0.0, bar_style='info', description='Progress:', layout=Layout(height='25px', width='50%'),…"
      ]
     },
     "metadata": {},
     "output_type": "display_data"
    },
    {
     "name": "stdout",
     "output_type": "stream",
     "text": [
      "Collecting pandas\n",
      "  Downloading https://files.pythonhosted.org/packages/61/ed/10112535645ad7afd26c3b9defd20a32d9e42340b19c4f73ff26ccad06ee/pandas-1.1.1-cp37-cp37m-manylinux1_x86_64.whl (10.5MB)\n",
      "Requirement already satisfied: numpy>=1.15.4 in /usr/local/lib64/python3.7/site-packages (from pandas)\n",
      "Requirement already satisfied: pytz>=2017.2 in /usr/local/lib/python3.7/site-packages (from pandas)\n",
      "Collecting python-dateutil>=2.7.3 (from pandas)\n",
      "  Using cached https://files.pythonhosted.org/packages/d4/70/d60450c3dd48ef87586924207ae8907090de0b306af2bce5d134d78615cb/python_dateutil-2.8.1-py2.py3-none-any.whl\n",
      "Requirement already satisfied: six>=1.5 in /usr/local/lib/python3.7/site-packages (from python-dateutil>=2.7.3->pandas)\n",
      "Installing collected packages: python-dateutil, pandas\n",
      "Successfully installed pandas-1.1.1 python-dateutil-2.8.1"
     ]
    }
   ],
   "source": [
    "### Installing pandas\n",
    "sc.install_pypi_package(\"pandas\")"
   ]
  },
  {
   "cell_type": "code",
   "execution_count": 24,
   "metadata": {
    "editable": true
   },
   "outputs": [
    {
     "data": {
      "application/vnd.jupyter.widget-view+json": {
       "model_id": "20563ccdc21e4cd4a0b062de682e7efd",
       "version_major": 2,
       "version_minor": 0
      },
      "text/plain": [
       "VBox()"
      ]
     },
     "metadata": {},
     "output_type": "display_data"
    },
    {
     "data": {
      "application/vnd.jupyter.widget-view+json": {
       "model_id": "",
       "version_major": 2,
       "version_minor": 0
      },
      "text/plain": [
       "FloatProgress(value=0.0, bar_style='info', description='Progress:', layout=Layout(height='25px', width='50%'),…"
      ]
     },
     "metadata": {},
     "output_type": "display_data"
    },
    {
     "name": "stdout",
     "output_type": "stream",
     "text": [
      "Collecting IPython\n",
      "  Downloading https://files.pythonhosted.org/packages/72/36/89e1bb437f4f2275c33acc6eb333ab2d1c64e732ad23d6f34825b512e1a3/ipython-7.18.1-py3-none-any.whl (786kB)\n",
      "Requirement already satisfied: setuptools>=18.5 in /mnt/tmp/1599328990361-0/lib/python3.7/site-packages (from IPython)\n",
      "Collecting pexpect>4.3; sys_platform != \"win32\" (from IPython)\n",
      "  Downloading https://files.pythonhosted.org/packages/39/7b/88dbb785881c28a102619d46423cb853b46dbccc70d3ac362d99773a78ce/pexpect-4.8.0-py2.py3-none-any.whl (59kB)\n",
      "Collecting decorator (from IPython)\n",
      "  Downloading https://files.pythonhosted.org/packages/ed/1b/72a1821152d07cf1d8b6fce298aeb06a7eb90f4d6d41acec9861e7cc6df0/decorator-4.4.2-py2.py3-none-any.whl\n",
      "Collecting traitlets>=4.2 (from IPython)\n",
      "  Downloading https://files.pythonhosted.org/packages/c5/b1/f0846b65d2377c934e9a9a000dcab0ae0beb85dace61020ee3daf1dad48e/traitlets-5.0.3-py3-none-any.whl (97kB)\n",
      "Collecting jedi>=0.10 (from IPython)\n",
      "  Downloading https://files.pythonhosted.org/packages/c3/d4/36136b18daae06ad798966735f6c3fb96869c1be9f8245d2a8f556e40c36/jedi-0.17.2-py2.py3-none-any.whl (1.4MB)\n",
      "Collecting prompt-toolkit!=3.0.0,!=3.0.1,<3.1.0,>=2.0.0 (from IPython)\n",
      "  Downloading https://files.pythonhosted.org/packages/2b/c1/53ac685833200eb77ef485c2220dac5bfc255418e660790a9eb5cf3abf25/prompt_toolkit-3.0.7-py3-none-any.whl (355kB)\n",
      "Collecting pickleshare (from IPython)\n",
      "  Downloading https://files.pythonhosted.org/packages/9a/41/220f49aaea88bc6fa6cba8d05ecf24676326156c23b991e80b3f2fc24c77/pickleshare-0.7.5-py2.py3-none-any.whl\n",
      "Collecting backcall (from IPython)\n",
      "  Downloading https://files.pythonhosted.org/packages/4c/1c/ff6546b6c12603d8dd1070aa3c3d273ad4c07f5771689a7b69a550e8c951/backcall-0.2.0-py2.py3-none-any.whl\n",
      "Collecting pygments (from IPython)\n",
      "  Downloading https://files.pythonhosted.org/packages/2d/68/106af3ae51daf807e9cdcba6a90e518954eb8b70341cee52995540a53ead/Pygments-2.6.1-py3-none-any.whl (914kB)\n",
      "Collecting ptyprocess>=0.5 (from pexpect>4.3; sys_platform != \"win32\"->IPython)\n",
      "  Downloading https://files.pythonhosted.org/packages/d1/29/605c2cc68a9992d18dada28206eeada56ea4bd07a239669da41674648b6f/ptyprocess-0.6.0-py2.py3-none-any.whl\n",
      "Collecting ipython-genutils (from traitlets>=4.2->IPython)\n",
      "  Downloading https://files.pythonhosted.org/packages/fa/bc/9bd3b5c2b4774d5f33b2d544f1460be9df7df2fe42f352135381c347c69a/ipython_genutils-0.2.0-py2.py3-none-any.whl\n",
      "Collecting parso<0.8.0,>=0.7.0 (from jedi>=0.10->IPython)\n",
      "  Downloading https://files.pythonhosted.org/packages/93/d1/e635bdde32890db5aeb2ffbde17e74f68986305a4466b0aa373b861e3f00/parso-0.7.1-py2.py3-none-any.whl (109kB)\n",
      "Collecting wcwidth (from prompt-toolkit!=3.0.0,!=3.0.1,<3.1.0,>=2.0.0->IPython)\n",
      "  Downloading https://files.pythonhosted.org/packages/59/7c/e39aca596badaf1b78e8f547c807b04dae603a433d3e7a7e04d67f2ef3e5/wcwidth-0.2.5-py2.py3-none-any.whl\n",
      "Installing collected packages: ptyprocess, pexpect, decorator, ipython-genutils, traitlets, parso, jedi, wcwidth, prompt-toolkit, pickleshare, backcall, pygments, IPython\n",
      "Successfully installed IPython-7.18.1 backcall-0.2.0 decorator-4.4.2 ipython-genutils-0.2.0 jedi-0.17.2 parso-0.7.1 pexpect-4.8.0 pickleshare-0.7.5 prompt-toolkit-3.0.7 ptyprocess-0.6.0 pygments-2.6.1 traitlets-5.0.3 wcwidth-0.2.5"
     ]
    }
   ],
   "source": [
    "sc.install_pypi_package(\"IPython\")"
   ]
  },
  {
   "cell_type": "code",
   "execution_count": 6,
   "metadata": {
    "editable": true
   },
   "outputs": [
    {
     "data": {
      "application/vnd.jupyter.widget-view+json": {
       "model_id": "daba89f5445c4664b4c4023b0c8be363",
       "version_major": 2,
       "version_minor": 0
      },
      "text/plain": [
       "VBox()"
      ]
     },
     "metadata": {},
     "output_type": "display_data"
    },
    {
     "data": {
      "application/vnd.jupyter.widget-view+json": {
       "model_id": "",
       "version_major": 2,
       "version_minor": 0
      },
      "text/plain": [
       "FloatProgress(value=0.0, bar_style='info', description='Progress:', layout=Layout(height='25px', width='50%'),…"
      ]
     },
     "metadata": {},
     "output_type": "display_data"
    }
   ],
   "source": [
    "import pandas as pd"
   ]
  },
  {
   "cell_type": "code",
   "execution_count": 7,
   "metadata": {
    "editable": true
   },
   "outputs": [
    {
     "data": {
      "application/vnd.jupyter.widget-view+json": {
       "model_id": "bbcafdd1c7ba44e5ab089ea78b0ea50f",
       "version_major": 2,
       "version_minor": 0
      },
      "text/plain": [
       "VBox()"
      ]
     },
     "metadata": {},
     "output_type": "display_data"
    },
    {
     "data": {
      "application/vnd.jupyter.widget-view+json": {
       "model_id": "",
       "version_major": 2,
       "version_minor": 0
      },
      "text/plain": [
       "FloatProgress(value=0.0, bar_style='info', description='Progress:', layout=Layout(height='25px', width='50%'),…"
      ]
     },
     "metadata": {},
     "output_type": "display_data"
    }
   ],
   "source": [
    "pd.set_option('display.max_columns', None)"
   ]
  },
  {
   "cell_type": "markdown",
   "metadata": {
    "editable": true
   },
   "source": [
    "#### Reading the songs data\n",
    "\n",
    "songs data is available in 's3://sparkify-datalake-7/songs'"
   ]
  },
  {
   "cell_type": "code",
   "execution_count": 12,
   "metadata": {
    "editable": true
   },
   "outputs": [
    {
     "data": {
      "application/vnd.jupyter.widget-view+json": {
       "model_id": "05f8c0ee265647d6912e4bcd6a7e17c3",
       "version_major": 2,
       "version_minor": 0
      },
      "text/plain": [
       "VBox()"
      ]
     },
     "metadata": {},
     "output_type": "display_data"
    },
    {
     "data": {
      "application/vnd.jupyter.widget-view+json": {
       "model_id": "",
       "version_major": 2,
       "version_minor": 0
      },
      "text/plain": [
       "FloatProgress(value=0.0, bar_style='info', description='Progress:', layout=Layout(height='25px', width='50%'),…"
      ]
     },
     "metadata": {},
     "output_type": "display_data"
    }
   ],
   "source": [
    "df_songs = spark.read \\\n",
    "                .parquet(s3Bucket+'songs/')"
   ]
  },
  {
   "cell_type": "code",
   "execution_count": 13,
   "metadata": {
    "editable": true
   },
   "outputs": [
    {
     "data": {
      "application/vnd.jupyter.widget-view+json": {
       "model_id": "e64f5c277cec46cd9ec7206b30941a4e",
       "version_major": 2,
       "version_minor": 0
      },
      "text/plain": [
       "VBox()"
      ]
     },
     "metadata": {},
     "output_type": "display_data"
    },
    {
     "data": {
      "application/vnd.jupyter.widget-view+json": {
       "model_id": "",
       "version_major": 2,
       "version_minor": 0
      },
      "text/plain": [
       "FloatProgress(value=0.0, bar_style='info', description='Progress:', layout=Layout(height='25px', width='50%'),…"
      ]
     },
     "metadata": {},
     "output_type": "display_data"
    },
    {
     "name": "stdout",
     "output_type": "stream",
     "text": [
      "              song_id                                              title  \\\n",
      "0  SOGCYYT12A6D4F7838  (I Don't Want To) Hang Up My Rock And Roll Sho...   \n",
      "1  SOYVBGZ12A6D4F92A8  Piano Sonata No. 21 in C 'Waldstein' Op. 53: I...   \n",
      "2  SORXZUE12AB01835C7  ...And The Flame Dies Out Again (The Inevitabl...   \n",
      "3  SORPIQW12AB0179EA1  McDermott's Fancy / Swans Among The Rushes / C...   \n",
      "4  SODQGKX12A6D4FB62C  Countin' Down The Days Goodbye_ I Love You) (E...   \n",
      "\n",
      "    duration  year           artist_id  \n",
      "0  260.49261     0  ARGF9VF1187FB37DAE  \n",
      "1  221.70077     0  ARLRWBW1242077EB29  \n",
      "2  160.91383     0  ARI2QZL1187B9B80AB  \n",
      "3  277.18485     0  ARB06Z71187B99049A  \n",
      "4  328.35873  2002  AREF5LQ1187B9B91F2"
     ]
    }
   ],
   "source": [
    "df_songs.limit(5).toPandas()"
   ]
  },
  {
   "cell_type": "markdown",
   "metadata": {
    "editable": true
   },
   "source": [
    "#### Reading the Users data\n",
    "\n",
    "users data is available in 's3://sparkify-datalake-7/users'"
   ]
  },
  {
   "cell_type": "code",
   "execution_count": 14,
   "metadata": {
    "editable": true
   },
   "outputs": [
    {
     "data": {
      "application/vnd.jupyter.widget-view+json": {
       "model_id": "479fcda1b54a465e8655a2653a600007",
       "version_major": 2,
       "version_minor": 0
      },
      "text/plain": [
       "VBox()"
      ]
     },
     "metadata": {},
     "output_type": "display_data"
    },
    {
     "data": {
      "application/vnd.jupyter.widget-view+json": {
       "model_id": "",
       "version_major": 2,
       "version_minor": 0
      },
      "text/plain": [
       "FloatProgress(value=0.0, bar_style='info', description='Progress:', layout=Layout(height='25px', width='50%'),…"
      ]
     },
     "metadata": {},
     "output_type": "display_data"
    }
   ],
   "source": [
    "df_users = spark.read \\\n",
    "                .parquet(s3Bucket+'users/')"
   ]
  },
  {
   "cell_type": "code",
   "execution_count": 15,
   "metadata": {
    "editable": true
   },
   "outputs": [
    {
     "data": {
      "application/vnd.jupyter.widget-view+json": {
       "model_id": "d558ef315da04564b31cce50f6af7c68",
       "version_major": 2,
       "version_minor": 0
      },
      "text/plain": [
       "VBox()"
      ]
     },
     "metadata": {},
     "output_type": "display_data"
    },
    {
     "data": {
      "application/vnd.jupyter.widget-view+json": {
       "model_id": "",
       "version_major": 2,
       "version_minor": 0
      },
      "text/plain": [
       "FloatProgress(value=0.0, bar_style='info', description='Progress:', layout=Layout(height='25px', width='50%'),…"
      ]
     },
     "metadata": {},
     "output_type": "display_data"
    },
    {
     "name": "stdout",
     "output_type": "stream",
     "text": [
      "  user_id first_name last_name gender level\n",
      "0      26       Ryan     Smith      M  free\n",
      "1      26       Ryan     Smith      M  free\n",
      "2      26       Ryan     Smith      M  free\n",
      "3      61     Samuel  Gonzalez      M  free\n",
      "4      80      Tegan    Levine      F  paid"
     ]
    }
   ],
   "source": [
    "df_users.limit(5).toPandas()"
   ]
  },
  {
   "cell_type": "markdown",
   "metadata": {
    "editable": true
   },
   "source": [
    "#### Reading the artists data\n",
    "\n",
    "artists data is available in 's3://sparkify-datalake-7/artists'"
   ]
  },
  {
   "cell_type": "code",
   "execution_count": 16,
   "metadata": {
    "editable": true
   },
   "outputs": [
    {
     "data": {
      "application/vnd.jupyter.widget-view+json": {
       "model_id": "297b9c672ac94ab38397aff3f0f37355",
       "version_major": 2,
       "version_minor": 0
      },
      "text/plain": [
       "VBox()"
      ]
     },
     "metadata": {},
     "output_type": "display_data"
    },
    {
     "data": {
      "application/vnd.jupyter.widget-view+json": {
       "model_id": "",
       "version_major": 2,
       "version_minor": 0
      },
      "text/plain": [
       "FloatProgress(value=0.0, bar_style='info', description='Progress:', layout=Layout(height='25px', width='50%'),…"
      ]
     },
     "metadata": {},
     "output_type": "display_data"
    }
   ],
   "source": [
    "df_artists = spark.read \\\n",
    "                .parquet(s3Bucket+'artists/')"
   ]
  },
  {
   "cell_type": "code",
   "execution_count": 17,
   "metadata": {
    "editable": true
   },
   "outputs": [
    {
     "data": {
      "application/vnd.jupyter.widget-view+json": {
       "model_id": "0bc09686f4e84673ace7e5835fbf1275",
       "version_major": 2,
       "version_minor": 0
      },
      "text/plain": [
       "VBox()"
      ]
     },
     "metadata": {},
     "output_type": "display_data"
    },
    {
     "data": {
      "application/vnd.jupyter.widget-view+json": {
       "model_id": "",
       "version_major": 2,
       "version_minor": 0
      },
      "text/plain": [
       "FloatProgress(value=0.0, bar_style='info', description='Progress:', layout=Layout(height='25px', width='50%'),…"
      ]
     },
     "metadata": {},
     "output_type": "display_data"
    },
    {
     "name": "stdout",
     "output_type": "stream",
     "text": [
      "            artist_id                    artist_name    artist_location  \\\n",
      "0  AR3WLE91187B99430A                         Staind    Springfield, MA   \n",
      "1  ARGMRRK1187FB5BE1F  Dean Elliott And His Big Band                      \n",
      "2  ARHFP9P1187FB44A90                    Look Mexico    Tallahassee, FL   \n",
      "3  ARBVASN1187B9890CB           Lucky Boys Confusion        Chicago, IL   \n",
      "4  ARIUHYM1187B9AEAE4              Ultimate Fakebook  Manhattan, Kansas   \n",
      "\n",
      "   artist_latitude  artist_longitude  \n",
      "0         42.10125         -72.58929  \n",
      "1              NaN               NaN  \n",
      "2         30.43977         -84.28065  \n",
      "3              NaN               NaN  \n",
      "4         39.17881         -96.56183"
     ]
    }
   ],
   "source": [
    "df_artists.limit(5).toPandas()"
   ]
  },
  {
   "cell_type": "markdown",
   "metadata": {
    "editable": true
   },
   "source": [
    "#### Reading the time data\n",
    "\n",
    "time data is available in 's3://sparkify-datalake-7/time'"
   ]
  },
  {
   "cell_type": "code",
   "execution_count": 18,
   "metadata": {
    "editable": true
   },
   "outputs": [
    {
     "data": {
      "application/vnd.jupyter.widget-view+json": {
       "model_id": "a35ccae199ba4fc3957a448dfb29ee2e",
       "version_major": 2,
       "version_minor": 0
      },
      "text/plain": [
       "VBox()"
      ]
     },
     "metadata": {},
     "output_type": "display_data"
    },
    {
     "data": {
      "application/vnd.jupyter.widget-view+json": {
       "model_id": "",
       "version_major": 2,
       "version_minor": 0
      },
      "text/plain": [
       "FloatProgress(value=0.0, bar_style='info', description='Progress:', layout=Layout(height='25px', width='50%'),…"
      ]
     },
     "metadata": {},
     "output_type": "display_data"
    }
   ],
   "source": [
    "df_time = spark.read \\\n",
    "                .parquet(s3Bucket+'time/')"
   ]
  },
  {
   "cell_type": "code",
   "execution_count": 19,
   "metadata": {
    "editable": true
   },
   "outputs": [
    {
     "data": {
      "application/vnd.jupyter.widget-view+json": {
       "model_id": "fda648a64de24e64a9c26c0e244d103b",
       "version_major": 2,
       "version_minor": 0
      },
      "text/plain": [
       "VBox()"
      ]
     },
     "metadata": {},
     "output_type": "display_data"
    },
    {
     "data": {
      "application/vnd.jupyter.widget-view+json": {
       "model_id": "",
       "version_major": 2,
       "version_minor": 0
      },
      "text/plain": [
       "FloatProgress(value=0.0, bar_style='info', description='Progress:', layout=Layout(height='25px', width='50%'),…"
      ]
     },
     "metadata": {},
     "output_type": "display_data"
    },
    {
     "name": "stdout",
     "output_type": "stream",
     "text": [
      "           start_time  hour  day  week  weekday  year  month\n",
      "0 2018-11-02 05:52:29     5    2    44        4  2018     11\n",
      "1 2018-11-02 12:17:04    12    2    44        4  2018     11\n",
      "2 2018-11-02 12:30:22    12    2    44        4  2018     11\n",
      "3 2018-11-02 15:27:04    15    2    44        4  2018     11\n",
      "4 2018-11-02 16:55:09    16    2    44        4  2018     11"
     ]
    }
   ],
   "source": [
    "df_time.limit(5).toPandas()"
   ]
  },
  {
   "cell_type": "markdown",
   "metadata": {
    "editable": true
   },
   "source": [
    "#### Reading the songplays data\n",
    "\n",
    "songplays data is available in 's3://sparkify-datalake-7/songplays'"
   ]
  },
  {
   "cell_type": "code",
   "execution_count": 71,
   "metadata": {
    "editable": true
   },
   "outputs": [
    {
     "data": {
      "application/vnd.jupyter.widget-view+json": {
       "model_id": "fd08c4370355400bad42bc7877b6fae8",
       "version_major": 2,
       "version_minor": 0
      },
      "text/plain": [
       "VBox()"
      ]
     },
     "metadata": {},
     "output_type": "display_data"
    },
    {
     "data": {
      "application/vnd.jupyter.widget-view+json": {
       "model_id": "",
       "version_major": 2,
       "version_minor": 0
      },
      "text/plain": [
       "FloatProgress(value=0.0, bar_style='info', description='Progress:', layout=Layout(height='25px', width='50%'),…"
      ]
     },
     "metadata": {},
     "output_type": "display_data"
    }
   ],
   "source": [
    "df_songplays = spark.read \\\n",
    "                .parquet(s3Bucket+'songplays/') \\\n",
    "                .drop('year','month')"
   ]
  },
  {
   "cell_type": "code",
   "execution_count": 72,
   "metadata": {
    "editable": true
   },
   "outputs": [
    {
     "data": {
      "application/vnd.jupyter.widget-view+json": {
       "model_id": "1518f888f1c44b8ca612af9b7702992a",
       "version_major": 2,
       "version_minor": 0
      },
      "text/plain": [
       "VBox()"
      ]
     },
     "metadata": {},
     "output_type": "display_data"
    },
    {
     "data": {
      "application/vnd.jupyter.widget-view+json": {
       "model_id": "",
       "version_major": 2,
       "version_minor": 0
      },
      "text/plain": [
       "FloatProgress(value=0.0, bar_style='info', description='Progress:', layout=Layout(height='25px', width='50%'),…"
      ]
     },
     "metadata": {},
     "output_type": "display_data"
    },
    {
     "name": "stdout",
     "output_type": "stream",
     "text": [
      "   songplay_id          start_time user_id level song_id artist_id  \\\n",
      "0  17179869184 2018-11-05 00:33:12      69  free    None      None   \n",
      "1  17179869185 2018-11-05 01:27:22      44  paid    None      None   \n",
      "2  17179869186 2018-11-05 01:30:56      44  paid    None      None   \n",
      "3  17179869187 2018-11-05 01:34:54      44  paid    None      None   \n",
      "4  17179869188 2018-11-05 01:40:40      44  paid    None      None   \n",
      "\n",
      "   session_id location                                         user_agent  \n",
      "0         256     None  \"Mozilla/5.0 (Macintosh; Intel Mac OS X 10_9_4...  \n",
      "1         237     None  Mozilla/5.0 (Macintosh; Intel Mac OS X 10.9; r...  \n",
      "2         237     None  Mozilla/5.0 (Macintosh; Intel Mac OS X 10.9; r...  \n",
      "3         237     None  Mozilla/5.0 (Macintosh; Intel Mac OS X 10.9; r...  \n",
      "4         237     None  Mozilla/5.0 (Macintosh; Intel Mac OS X 10.9; r..."
     ]
    }
   ],
   "source": [
    "df_songplays.limit(5).toPandas()"
   ]
  },
  {
   "cell_type": "code",
   "execution_count": 73,
   "metadata": {
    "editable": true
   },
   "outputs": [
    {
     "data": {
      "application/vnd.jupyter.widget-view+json": {
       "model_id": "9eabd73b89784e6ea19c4ce50cba461c",
       "version_major": 2,
       "version_minor": 0
      },
      "text/plain": [
       "VBox()"
      ]
     },
     "metadata": {},
     "output_type": "display_data"
    },
    {
     "data": {
      "application/vnd.jupyter.widget-view+json": {
       "model_id": "",
       "version_major": 2,
       "version_minor": 0
      },
      "text/plain": [
       "FloatProgress(value=0.0, bar_style='info', description='Progress:', layout=Layout(height='25px', width='50%'),…"
      ]
     },
     "metadata": {},
     "output_type": "display_data"
    },
    {
     "name": "stdout",
     "output_type": "stream",
     "text": [
      "6820"
     ]
    }
   ],
   "source": [
    "df_songplays.count()"
   ]
  },
  {
   "cell_type": "code",
   "execution_count": 74,
   "metadata": {
    "editable": true
   },
   "outputs": [
    {
     "data": {
      "application/vnd.jupyter.widget-view+json": {
       "model_id": "0f13d7556a7b4ef48add2f4449b58d39",
       "version_major": 2,
       "version_minor": 0
      },
      "text/plain": [
       "VBox()"
      ]
     },
     "metadata": {},
     "output_type": "display_data"
    },
    {
     "data": {
      "application/vnd.jupyter.widget-view+json": {
       "model_id": "",
       "version_major": 2,
       "version_minor": 0
      },
      "text/plain": [
       "FloatProgress(value=0.0, bar_style='info', description='Progress:', layout=Layout(height='25px', width='50%'),…"
      ]
     },
     "metadata": {},
     "output_type": "display_data"
    },
    {
     "name": "stdout",
     "output_type": "stream",
     "text": [
      "root\n",
      " |-- songplay_id: long (nullable = true)\n",
      " |-- start_time: timestamp (nullable = true)\n",
      " |-- user_id: string (nullable = true)\n",
      " |-- level: string (nullable = true)\n",
      " |-- song_id: string (nullable = true)\n",
      " |-- artist_id: string (nullable = true)\n",
      " |-- session_id: long (nullable = true)\n",
      " |-- location: string (nullable = true)\n",
      " |-- user_agent: string (nullable = true)"
     ]
    }
   ],
   "source": [
    "df_songplays.printSchema()"
   ]
  },
  {
   "cell_type": "code",
   "execution_count": 39,
   "metadata": {
    "editable": true
   },
   "outputs": [
    {
     "data": {
      "application/vnd.jupyter.widget-view+json": {
       "model_id": "96c9abed63d14cb2940dd7470351aa32",
       "version_major": 2,
       "version_minor": 0
      },
      "text/plain": [
       "VBox()"
      ]
     },
     "metadata": {},
     "output_type": "display_data"
    },
    {
     "data": {
      "application/vnd.jupyter.widget-view+json": {
       "model_id": "",
       "version_major": 2,
       "version_minor": 0
      },
      "text/plain": [
       "FloatProgress(value=0.0, bar_style='info', description='Progress:', layout=Layout(height='25px', width='50%'),…"
      ]
     },
     "metadata": {},
     "output_type": "display_data"
    }
   ],
   "source": [
    "from pyspark.sql.functions import col, count, when, isnan"
   ]
  },
  {
   "cell_type": "code",
   "execution_count": 75,
   "metadata": {
    "editable": true
   },
   "outputs": [
    {
     "data": {
      "application/vnd.jupyter.widget-view+json": {
       "model_id": "852e2963b45345498d35b72ee590cfdf",
       "version_major": 2,
       "version_minor": 0
      },
      "text/plain": [
       "VBox()"
      ]
     },
     "metadata": {},
     "output_type": "display_data"
    },
    {
     "data": {
      "application/vnd.jupyter.widget-view+json": {
       "model_id": "",
       "version_major": 2,
       "version_minor": 0
      },
      "text/plain": [
       "FloatProgress(value=0.0, bar_style='info', description='Progress:', layout=Layout(height='25px', width='50%'),…"
      ]
     },
     "metadata": {},
     "output_type": "display_data"
    },
    {
     "name": "stdout",
     "output_type": "stream",
     "text": [
      "   songplay_id          start_time user_id level             song_id  \\\n",
      "0  17179869191 2018-11-05 01:48:00      44  paid  SOOXLKF12A6D4F594A   \n",
      "1  17179869194 2018-11-05 01:58:24      44  paid  SOHMNPP12A58A7AE4B   \n",
      "2  17179869197 2018-11-05 02:09:47      44  paid  SOUNZHU12A8AE47481   \n",
      "3  17179869201 2018-11-05 02:30:17      44  paid  SONTFNG12A8C13FF69   \n",
      "4  17179869215 2018-11-05 04:47:26      69  free  SONTFNG12A8C13FF69   \n",
      "\n",
      "            artist_id  session_id          location  \\\n",
      "0  ARF5M7Q1187FB501E8         237   Los Angeles, CA   \n",
      "1  ARKZ13R1187FB54FEE         237                     \n",
      "2  AR37SX11187FB3E164         237      Ferndale, MI   \n",
      "3  AR52EZT1187B9900BF         237  Harlem, New York   \n",
      "4  AR52EZT1187B9900BF         259  Harlem, New York   \n",
      "\n",
      "                                          user_agent  \n",
      "0  Mozilla/5.0 (Macintosh; Intel Mac OS X 10.9; r...  \n",
      "1  Mozilla/5.0 (Macintosh; Intel Mac OS X 10.9; r...  \n",
      "2  Mozilla/5.0 (Macintosh; Intel Mac OS X 10.9; r...  \n",
      "3  Mozilla/5.0 (Macintosh; Intel Mac OS X 10.9; r...  \n",
      "4  \"Mozilla/5.0 (Macintosh; Intel Mac OS X 10_9_4..."
     ]
    }
   ],
   "source": [
    "df_songplays.filter(col('song_id')!='None').limit(5).toPandas()"
   ]
  },
  {
   "cell_type": "markdown",
   "metadata": {
    "editable": true
   },
   "source": [
    "#### Analytics\n",
    "\n",
    "The log events are available for the month of November (11) only."
   ]
  },
  {
   "cell_type": "markdown",
   "metadata": {
    "editable": true
   },
   "source": [
    "Q1: What are the most popular songs in the month?\n",
    "\n",
    "Criteria: \n",
    "\n",
    "1. Mostly heard by people\n",
    "    \n",
    "    **do not count the number of times heard by the same people**"
   ]
  },
  {
   "cell_type": "code",
   "execution_count": 48,
   "metadata": {
    "editable": true
   },
   "outputs": [
    {
     "data": {
      "application/vnd.jupyter.widget-view+json": {
       "model_id": "73df58fd96ce4b46a4560a0a29d5d40f",
       "version_major": 2,
       "version_minor": 0
      },
      "text/plain": [
       "VBox()"
      ]
     },
     "metadata": {},
     "output_type": "display_data"
    },
    {
     "data": {
      "application/vnd.jupyter.widget-view+json": {
       "model_id": "",
       "version_major": 2,
       "version_minor": 0
      },
      "text/plain": [
       "FloatProgress(value=0.0, bar_style='info', description='Progress:', layout=Layout(height='25px', width='50%'),…"
      ]
     },
     "metadata": {},
     "output_type": "display_data"
    }
   ],
   "source": [
    "df_songs_artists = df_songs.join(df_artists, \\\n",
    "                                 'artist_id', 'inner')"
   ]
  },
  {
   "cell_type": "code",
   "execution_count": 47,
   "metadata": {
    "editable": true
   },
   "outputs": [
    {
     "data": {
      "application/vnd.jupyter.widget-view+json": {
       "model_id": "a506ae270a2d4b2a95340c3916aeb497",
       "version_major": 2,
       "version_minor": 0
      },
      "text/plain": [
       "VBox()"
      ]
     },
     "metadata": {},
     "output_type": "display_data"
    },
    {
     "data": {
      "application/vnd.jupyter.widget-view+json": {
       "model_id": "",
       "version_major": 2,
       "version_minor": 0
      },
      "text/plain": [
       "FloatProgress(value=0.0, bar_style='info', description='Progress:', layout=Layout(height='25px', width='50%'),…"
      ]
     },
     "metadata": {},
     "output_type": "display_data"
    },
    {
     "name": "stdout",
     "output_type": "stream",
     "text": [
      "            artist_id             song_id  \\\n",
      "0  ARGF9VF1187FB37DAE  SOGCYYT12A6D4F7838   \n",
      "1  ARGF9VF1187FB37DAE  SOGCYYT12A6D4F7838   \n",
      "2  ARGF9VF1187FB37DAE  SOGCYYT12A6D4F7838   \n",
      "3  ARGF9VF1187FB37DAE  SOGCYYT12A6D4F7838   \n",
      "4  ARGF9VF1187FB37DAE  SOGCYYT12A6D4F7838   \n",
      "\n",
      "                                               title   duration  year  \\\n",
      "0  (I Don't Want To) Hang Up My Rock And Roll Sho...  260.49261     0   \n",
      "1  (I Don't Want To) Hang Up My Rock And Roll Sho...  260.49261     0   \n",
      "2  (I Don't Want To) Hang Up My Rock And Roll Sho...  260.49261     0   \n",
      "3  (I Don't Want To) Hang Up My Rock And Roll Sho...  260.49261     0   \n",
      "4  (I Don't Want To) Hang Up My Rock And Roll Sho...  260.49261     0   \n",
      "\n",
      "  artist_name           artist_location artist_latitude artist_longitude  \n",
      "0    The Band  Toronto, Ontario, Canada            None             None  \n",
      "1    The Band  Toronto, Ontario, Canada            None             None  \n",
      "2    The Band  Toronto, Ontario, Canada            None             None  \n",
      "3    The Band  Toronto, Ontario, Canada            None             None  \n",
      "4    The Band  Toronto, Ontario, Canada            None             None"
     ]
    }
   ],
   "source": [
    "df_songs_artists.limit(5).toPandas()"
   ]
  },
  {
   "cell_type": "code",
   "execution_count": 52,
   "metadata": {
    "editable": true
   },
   "outputs": [
    {
     "data": {
      "application/vnd.jupyter.widget-view+json": {
       "model_id": "a938c75e5df247698638cac92230350b",
       "version_major": 2,
       "version_minor": 0
      },
      "text/plain": [
       "VBox()"
      ]
     },
     "metadata": {},
     "output_type": "display_data"
    },
    {
     "data": {
      "application/vnd.jupyter.widget-view+json": {
       "model_id": "",
       "version_major": 2,
       "version_minor": 0
      },
      "text/plain": [
       "FloatProgress(value=0.0, bar_style='info', description='Progress:', layout=Layout(height='25px', width='50%'),…"
      ]
     },
     "metadata": {},
     "output_type": "display_data"
    },
    {
     "name": "stdout",
     "output_type": "stream",
     "text": [
      "0"
     ]
    }
   ],
   "source": [
    "df_songs_artists.filter(col('song_id')=='None').count()"
   ]
  },
  {
   "cell_type": "code",
   "execution_count": 76,
   "metadata": {
    "editable": true
   },
   "outputs": [
    {
     "data": {
      "application/vnd.jupyter.widget-view+json": {
       "model_id": "9dbc2cbadc8e4460a1b718f68771c49a",
       "version_major": 2,
       "version_minor": 0
      },
      "text/plain": [
       "VBox()"
      ]
     },
     "metadata": {},
     "output_type": "display_data"
    },
    {
     "data": {
      "application/vnd.jupyter.widget-view+json": {
       "model_id": "",
       "version_major": 2,
       "version_minor": 0
      },
      "text/plain": [
       "FloatProgress(value=0.0, bar_style='info', description='Progress:', layout=Layout(height='25px', width='50%'),…"
      ]
     },
     "metadata": {},
     "output_type": "display_data"
    }
   ],
   "source": [
    "df_songplays_sa = df_songplays.join(df_songs_artists, \\\n",
    "                                    ['song_id', 'artist_id'], \\\n",
    "                                   'inner')"
   ]
  },
  {
   "cell_type": "code",
   "execution_count": 78,
   "metadata": {
    "editable": true
   },
   "outputs": [
    {
     "data": {
      "application/vnd.jupyter.widget-view+json": {
       "model_id": "63aa50d73cc14cc684dcf81fb856ac3d",
       "version_major": 2,
       "version_minor": 0
      },
      "text/plain": [
       "VBox()"
      ]
     },
     "metadata": {},
     "output_type": "display_data"
    },
    {
     "data": {
      "application/vnd.jupyter.widget-view+json": {
       "model_id": "",
       "version_major": 2,
       "version_minor": 0
      },
      "text/plain": [
       "FloatProgress(value=0.0, bar_style='info', description='Progress:', layout=Layout(height='25px', width='50%'),…"
      ]
     },
     "metadata": {},
     "output_type": "display_data"
    },
    {
     "name": "stdout",
     "output_type": "stream",
     "text": [
      "              song_id           artist_id  songplay_id          start_time  \\\n",
      "0  SOHRHCN12AB018B0F4  ARHQBRZ1187FB3BDA2   8589935333 2018-11-28 23:34:43   \n",
      "1  SOHRHCN12AB018B0F4  ARHQBRZ1187FB3BDA2   8589935333 2018-11-28 23:34:43   \n",
      "2  SOCHPTV12A6BD53113  ARN8NCB1187FB49652          617 2018-11-21 08:25:43   \n",
      "3  SOCHPTV12A6BD53113  ARN8NCB1187FB49652          617 2018-11-21 08:25:43   \n",
      "4  SOCHPTV12A6BD53113  ARN8NCB1187FB49652          617 2018-11-21 08:25:43   \n",
      "\n",
      "  user_id level  session_id              location  \\\n",
      "0      24  paid         984  Berkeley, California   \n",
      "1      24  paid         984  Berkeley, California   \n",
      "2      88  paid         744   Geneva, Switzerland   \n",
      "3      88  paid         744   Geneva, Switzerland   \n",
      "4      88  paid         744   Geneva, Switzerland   \n",
      "\n",
      "                                          user_agent  \\\n",
      "0  \"Mozilla/5.0 (Windows NT 6.1; WOW64) AppleWebK...   \n",
      "1  \"Mozilla/5.0 (Windows NT 6.1; WOW64) AppleWebK...   \n",
      "2  \"Mozilla/5.0 (Macintosh; Intel Mac OS X 10_9_4...   \n",
      "3  \"Mozilla/5.0 (Macintosh; Intel Mac OS X 10_9_4...   \n",
      "4  \"Mozilla/5.0 (Macintosh; Intel Mac OS X 10_9_4...   \n",
      "\n",
      "                                               title   duration  year  \\\n",
      "0  It's Not Easy (Being Green) (Featuring Pierre ...  222.87628  2009   \n",
      "1  It's Not Easy (Being Green) (Featuring Pierre ...  222.87628  2009   \n",
      "2  Die Kunst der Fuge_ BWV 1080 (2007 Digital Rem...  172.38159     0   \n",
      "3  Die Kunst der Fuge_ BWV 1080 (2007 Digital Rem...  172.38159     0   \n",
      "4  Die Kunst der Fuge_ BWV 1080 (2007 Digital Rem...  172.38159     0   \n",
      "\n",
      "                         artist_name       artist_location  artist_latitude  \\\n",
      "0  MC Lars (featuring Jaret Reddick)  Berkeley, California              NaN   \n",
      "1                            MC Lars  Berkeley, California              NaN   \n",
      "2                        Lionel Rogg   Geneva, Switzerland         46.20835   \n",
      "3                        Lionel Rogg   Geneva, Switzerland         46.20835   \n",
      "4                        Lionel Rogg   Geneva, Switzerland         46.20835   \n",
      "\n",
      "   artist_longitude  \n",
      "0               NaN  \n",
      "1               NaN  \n",
      "2            6.1427  \n",
      "3            6.1427  \n",
      "4            6.1427"
     ]
    }
   ],
   "source": [
    "df_songplays_sa.limit(5).toPandas()"
   ]
  },
  {
   "cell_type": "code",
   "execution_count": 85,
   "metadata": {
    "editable": true
   },
   "outputs": [
    {
     "data": {
      "application/vnd.jupyter.widget-view+json": {
       "model_id": "558e3ad52e4e4f238154db50fb1c7373",
       "version_major": 2,
       "version_minor": 0
      },
      "text/plain": [
       "VBox()"
      ]
     },
     "metadata": {},
     "output_type": "display_data"
    },
    {
     "data": {
      "application/vnd.jupyter.widget-view+json": {
       "model_id": "",
       "version_major": 2,
       "version_minor": 0
      },
      "text/plain": [
       "FloatProgress(value=0.0, bar_style='info', description='Progress:', layout=Layout(height='25px', width='50%'),…"
      ]
     },
     "metadata": {},
     "output_type": "display_data"
    }
   ],
   "source": [
    "from pyspark.sql.functions import desc"
   ]
  },
  {
   "cell_type": "code",
   "execution_count": 86,
   "metadata": {
    "editable": true
   },
   "outputs": [
    {
     "data": {
      "application/vnd.jupyter.widget-view+json": {
       "model_id": "c5b4bf17a4e84243b5a7e70c42e50dfc",
       "version_major": 2,
       "version_minor": 0
      },
      "text/plain": [
       "VBox()"
      ]
     },
     "metadata": {},
     "output_type": "display_data"
    },
    {
     "data": {
      "application/vnd.jupyter.widget-view+json": {
       "model_id": "",
       "version_major": 2,
       "version_minor": 0
      },
      "text/plain": [
       "FloatProgress(value=0.0, bar_style='info', description='Progress:', layout=Layout(height='25px', width='50%'),…"
      ]
     },
     "metadata": {},
     "output_type": "display_data"
    },
    {
     "name": "stdout",
     "output_type": "stream",
     "text": [
      "                                               title    artist_name  count\n",
      "0                                     You're The One  Dwight Yoakam     22\n",
      "1  Catch You Baby (Steve Pitron & Max Sanna Radio...  Lonnie Gordon      9\n",
      "2  Nothin' On You [feat. Bruno Mars] (Album Version)          B.o.B      7\n",
      "3                                I CAN'T GET STARTED     Ron Carter      6\n",
      "4                                       Make Her Say       Kid Cudi      5"
     ]
    }
   ],
   "source": [
    "df_songplays_sa.dropDuplicates(subset=['title','artist_name','user_id'])\\\n",
    "                .groupBy('title','artist_name')\\\n",
    "                .count()\\\n",
    "                .select('title','artist_name','count')\\\n",
    "                .sort(desc('count'))\\\n",
    "                .limit(5)\\\n",
    "                .toPandas()"
   ]
  },
  {
   "cell_type": "markdown",
   "metadata": {
    "editable": true
   },
   "source": [
    "Q2: What are the most popular songs in the month?\n",
    "\n",
    "Criteria: \n",
    "\n",
    "1. More number of songplays"
   ]
  },
  {
   "cell_type": "code",
   "execution_count": 87,
   "metadata": {
    "editable": true
   },
   "outputs": [
    {
     "data": {
      "application/vnd.jupyter.widget-view+json": {
       "model_id": "ab9f4d033dd94ef7b119d83527461265",
       "version_major": 2,
       "version_minor": 0
      },
      "text/plain": [
       "VBox()"
      ]
     },
     "metadata": {},
     "output_type": "display_data"
    },
    {
     "data": {
      "application/vnd.jupyter.widget-view+json": {
       "model_id": "",
       "version_major": 2,
       "version_minor": 0
      },
      "text/plain": [
       "FloatProgress(value=0.0, bar_style='info', description='Progress:', layout=Layout(height='25px', width='50%'),…"
      ]
     },
     "metadata": {},
     "output_type": "display_data"
    },
    {
     "name": "stdout",
     "output_type": "stream",
     "text": [
      "                                               title    artist_name  count\n",
      "0                                     You're The One  Dwight Yoakam     37\n",
      "1            Supermassive Black Hole (Album Version)           Muse     28\n",
      "2                           Hey Daddy (Daddy's Home)          Usher     18\n",
      "3  Catch You Baby (Steve Pitron & Max Sanna Radio...  Lonnie Gordon     18\n",
      "4                               Girlfriend In A Coma     The Smiths     12"
     ]
    }
   ],
   "source": [
    "df_songplays_sa.groupBy('title','artist_name')\\\n",
    "                .count()\\\n",
    "                .select('title','artist_name','count')\\\n",
    "                .sort(desc('count'))\\\n",
    "                .limit(5)\\\n",
    "                .toPandas()"
   ]
  }
 ],
 "metadata": {
  "kernelspec": {
   "display_name": "Python 3",
   "language": "python",
   "name": "python3"
  },
  "language_info": {
   "codemirror_mode": {
    "name": "ipython",
    "version": 3
   },
   "file_extension": ".py",
   "mimetype": "text/x-python",
   "name": "python",
   "nbconvert_exporter": "python",
   "pygments_lexer": "ipython3",
   "version": "3.6.3"
  }
 },
 "nbformat": 4,
 "nbformat_minor": 4
}
